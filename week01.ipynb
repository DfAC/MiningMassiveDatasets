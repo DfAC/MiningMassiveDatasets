{
 "cells": [
  {
   "cell_type": "code",
   "execution_count": 30,
   "metadata": {
    "collapsed": false
   },
   "outputs": [
    {
     "name": "stdout",
     "output_type": "stream",
     "text": [
      "Pretty printing has been turned OFF\n"
     ]
    }
   ],
   "source": [
    "%pprint ON #pretty printing\n",
    "import pdb #debugger"
   ]
  },
  {
   "cell_type": "markdown",
   "metadata": {},
   "source": [
    "#Mining massive datasets week01\n",
    "\n",
    "##Intro\n",
    "\n",
    "To solve for simple equations we could use [Gaussian elimination](https://en.wikipedia.org/wiki/Gaussian_elimination), but for any real life problem we need to use matrix approach, in which flow equation can be written as $r = Mr$. This is similar to eigenvector problem, where r is first egienvector (largest possible value == 1) of stochastic web matrix M (web page x links, j x i). This means we can use **power iteration** to compute r\n",
    "\n",
    "\n",
    "\n",
    "<a name=\"Power_Iteration\">\n",
    "##Power iteration\n",
    "</a>\n",
    "\n",
    "* initialise with $r_0= [\\frac{1}{N} \\cdots \\frac{1}{N}]$\n",
    "* iterate $r^{t+1} = Mr^t$ until $| r^{t+1} - r^t | < \\varepsilon$ so using L1 norm\n",
    "    * note that in Matrix M - page on col i point to page on row j.\n",
    "\n",
    "Lets see this coded:"
   ]
  },
  {
   "cell_type": "code",
   "execution_count": 180,
   "metadata": {
    "collapsed": false
   },
   "outputs": [],
   "source": [
    "import math\n",
    "import numpy as np\n",
    "\n",
    "\n",
    "#returns converge r, require web matrix M \n",
    "def PowerIteration (M):\n",
    "  #init r as (n,1) matrix\n",
    "  numPages= M.shape[0]\n",
    "  r = np.asmatrix(np.ones(numPages)/float(numPages)).T #[1/N...]\n",
    "\n",
    "  #iterate until converge\n",
    "  iterationDiff = 1\n",
    "  while iterationDiff>0:\n",
    "    r_old = r\n",
    "    r = M *r\n",
    "    iterationDiff = sum(r-r_old)[0,0] #convert matrix to float\n",
    "\n",
    "  return r"
   ]
  },
  {
   "cell_type": "code",
   "execution_count": 199,
   "metadata": {
    "collapsed": false
   },
   "outputs": [
    {
     "name": "stdout",
     "output_type": "stream",
     "text": [
      "[[ 0.41666667]\n",
      " [ 0.33333333]\n",
      " [ 0.25      ]]\n"
     ]
    }
   ],
   "source": [
    "#define M for pages (y,a,m)\n",
    "M = np.matrix([[0.5, 0.5, 0],\n",
    "               [.5, 0, 1],\n",
    "               [0, .5, 0]])\n",
    "\n",
    "NormalRanking = PowerIteration(M)\n",
    "print(NormalRanking)"
   ]
  },
  {
   "cell_type": "markdown",
   "metadata": {},
   "source": [
    "<a name = Random_walk>\n",
    "##Random walk\n",
    "</a>\n",
    "If we consider our algorithm from surfer perspective, we have to include probability in previous equation, so for each epoch t we have $p_{t+1}=Mp_t$. Hence our flow equation can be interpreted as stationary distribution of random walk (that is when $p_{t+1}=p_t$) and from Markov processes we know that, if we fulfil all conditions, stationary distribution is unique.\n",
    "\n",
    "Given that, does our algorithm always coverage to corect values? Not always:\n",
    "\n",
    "* spider trap problem - page links to itself absorbing all score importance\n",
    "* dead end problem - problems with web pages without outgoing links, our score is leaked\n",
    "\n",
    "###Spider trap problem"
   ]
  },
  {
   "cell_type": "code",
   "execution_count": 202,
   "metadata": {
    "collapsed": false
   },
   "outputs": [
    {
     "data": {
      "text/plain": [
       "matrix([[-0.25      ],\n",
       "        [-0.22916667],\n",
       "        [ 0.47916667]])"
      ]
     },
     "execution_count": 202,
     "metadata": {},
     "output_type": "execute_result"
    }
   ],
   "source": [
    "#define M with spider trap at page m\n",
    "M = np.matrix([[0.5, 0.5, 0],\n",
    "               [.5, 0, 0],\n",
    "               [0, .5, 1]])\n",
    "\n",
    "SpiderTrapRanking = PowerIteration(M)\n",
    "SpiderTrapRanking - NormalRanking "
   ]
  },
  {
   "cell_type": "markdown",
   "metadata": {},
   "source": []
  },
  {
   "cell_type": "markdown",
   "metadata": {},
   "source": [
    "Unlike the example from lecture, floating solutions allow us to avoid (0,0,1) problem but still page m will suck up a 50% rankings from pages a,y. Solution to this problem is to add **teleport** and define probability $1-\\beta$ (commoonly 0.1-0.2) when walker will not follow random link but teleport to random page instead.\n",
    "  \n",
    " ###Dead end problem"
   ]
  },
  {
   "cell_type": "code",
   "execution_count": 203,
   "metadata": {
    "collapsed": false
   },
   "outputs": [
    {
     "data": {
      "text/plain": [
       "matrix([[-0.08333333],\n",
       "        [-0.16666667],\n",
       "        [-0.08333333]])"
      ]
     },
     "execution_count": 203,
     "metadata": {},
     "output_type": "execute_result"
    }
   ],
   "source": [
    "#define M with dead end at page m\n",
    "M = np.matrix([[0.5, 0.5, 0],\n",
    "               [.5, 0, 0],\n",
    "               [0, .5, 0]])\n",
    "\n",
    "DeadEndRanking = PowerIteration(M)\n",
    "DeadEndRanking - NormalRanking "
   ]
  },
  {
   "cell_type": "markdown",
   "metadata": {},
   "source": [
    "This is even worse then before, as our ranking has leaked out and does not longer sum to 1. Solution to this problem is to add **teleport** with probability 1 once we read dead-end. Combining both problems we can rewrite our orginal equation as $r_j = \\sum_{i\\rightarrow j} \\beta \\frac{r_i}{d_i}+(1-\\beta) \\frac{1}{n}$ .\n",
    "\n",
    "##Explanation of teleports\n",
    "\n",
    "Folloowing follows markow chains, to do so our matrix M has to be stochastic (all columns sum to 1, teleport allows this for dead ends), irreducible (we cant get stuck in a give state) and aperiodic (there is no repeatability in our data). This is possible by indroducing random jumps, this is  In case of matrix this means introducing new matrix $A = \\beta M +(1-\\beta) \\frac{1}{n}ee^T$, which we then use for flow equation, hence final equation is $r_{t+1}= A r_t$.\n",
    "\n",
    "\n",
    "##What if it does not fit into memory of our machine?\n",
    "\n",
    "\n",
    "\n",
    "#Week1 tests\n",
    "##Question 1\n",
    "Suppose we compute PageRank with a β of 0.7, and we introduce the additional constraint that the sum of the PageRanks of the three pages must be 3, to handle the problem that otherwise any multiple of a solution will also be a solution. Compute the PageRanks a, b, and c of the three pages A, B, and C, respectively. Then, identify from the list below, the true statement.\n",
    "![Q1](https://d396qusza40orc.cloudfront.net/mmds/images/otc_pagerank2.gif).\n",
    "\n",
    "##Solution\n",
    "To start with lets define final **PowerIteration** function solving for both dead ends and spider traps."
   ]
  },
  {
   "cell_type": "code",
   "execution_count": 32,
   "metadata": {
    "collapsed": false
   },
   "outputs": [],
   "source": [
    "import math\n",
    "import numpy as np\n",
    "\n",
    "\n",
    "#returns converge r, require web matrix M, StayProbability, MaxAllowedIterations\n",
    "#StayProbability, \\beta - how often will random walker just follow the link\n",
    "#otherwwords JumpProbability = 1-StayProbability\n",
    "def PowerIteration (M,StayProbability,AllowedIterations=300):\n",
    "  CovergeAccuracy = 10**-5\n",
    "  #init r as (n,1) matrix\n",
    "  numPages= M.shape[0]\n",
    "  r = np.asmatrix(np.ones(numPages)/float(numPages)).T #[1/N...]\n",
    "\n",
    "  #calculate matrix A\n",
    "  A = StayProbability*M + np.ones((numPages,numPages))*(1-StayProbability)/float(numPages)\n",
    "  #pdb.set_trace()\n",
    "\n",
    "  #iterate until converge\n",
    "  iterationDiff = 1\n",
    "  while iterationDiff>CovergeAccuracy:\n",
    "    r_old = r\n",
    "    r = A *r\n",
    "    iterationDiff = sum(r-r_old)[0,0] #convert matrix to float\n",
    "\n",
    "  return (A,r*numPages) \n",
    "#we introduce constrain that PageRank sums to no of pages, as otherwise any multiple of solution is also solution"
   ]
  },
  {
   "cell_type": "markdown",
   "metadata": {
    "collapsed": false
   },
   "source": [
    "Then we can define matrix M, remembering that in Matrix M - page on col i point to page on row j. Hence"
   ]
  },
  {
   "cell_type": "code",
   "execution_count": 43,
   "metadata": {
    "collapsed": false
   },
   "outputs": [
    {
     "name": "stdout",
     "output_type": "stream",
     "text": [
      "[[ 0.3 ]\n",
      " [ 0.65]\n",
      " [ 2.05]]\n",
      "a+c = 2.350\n",
      "b+c = 2.700\n",
      "a+b = 0.950\n"
     ]
    }
   ],
   "source": [
    "M = np.matrix([\n",
    "        [0,0,0],\n",
    "        [.5,0,0],\n",
    "        [0.5,1,1]      \n",
    "    ])\n",
    "A,PageRank = PowerIteration(M,0.7)\n",
    "print PageRank\n",
    "#multiply page rank by number of pages, as sum == \n",
    "\n",
    "print \"a+c = %.3f\" %(PageRank[0]+PageRank[2])\n",
    "print \"b+c = %.3f\" %(PageRank[1]+PageRank[2])\n",
    "print \"a+b = %.3f\" %(PageRank[0]+PageRank[1])"
   ]
  },
  {
   "cell_type": "markdown",
   "metadata": {},
   "source": [
    "##Question 2\n",
    "Consider three Web pages with the following links:\n",
    "![Q1](https://d396qusza40orc.cloudfront.net/mmds/images/otc_pagerank3.gif).\n",
    "\n",
    "Suppose we compute PageRank with β=0.85. Write the equations for the PageRanks a, b, and c of the three pages A, B, and C, respectively. Then, identify in the list below, one of the equations."
   ]
  },
  {
   "cell_type": "code",
   "execution_count": 42,
   "metadata": {
    "collapsed": false
   },
   "outputs": [
    {
     "name": "stdout",
     "output_type": "stream",
     "text": [
      "[[ 0.05   0.05   0.9  ]\n",
      " [ 0.475  0.05   0.05 ]\n",
      " [ 0.475  0.9    0.05 ]]\n",
      "a= 0.053b+ 0.947c\n",
      "b= 0.500a+ 0.053c\n",
      "c= 0.500a+ 0.947b\n"
     ]
    }
   ],
   "source": [
    "M = np.matrix([\n",
    "        [0,0,1],\n",
    "        [.5,0,0],\n",
    "        [0.5,1,0]      \n",
    "    ])\n",
    "A,PageRank = PowerIteration(M,0.85)\n",
    "print A\n",
    "\n",
    "print \"a= %.3fb+ %.3fc\" %(A[0,1]/(1-A[0,0]),A[0,2]/(1-A[0,0]))\n",
    "print \"b= %.3fa+ %.3fc\" %(A[1,0]/(1-A[1,1]),A[1,2]/(1-A[1,1]))\n",
    "print \"c= %.3fa+ %.3fb\" %(A[2,0]/(1-A[2,2]),A[2,1]/(1-A[2,2]))"
   ]
  },
  {
   "cell_type": "markdown",
   "metadata": {},
   "source": [
    "##Question 3\n",
    "Consider three Web pages with the following links:\n",
    "![Q1](https://d396qusza40orc.cloudfront.net/mmds/images/otc_pagerank3.gif).\n",
    "\n",
    "Assuming no \"taxation,\" compute the PageRanks a, b, and c of the three pages A, B, and C, using iteration, starting with the \"0th\" iteration where all three pages have rank a = b = c = 1. Compute as far as the 5th iteration, and also determine what the PageRanks are in the limit. Then, identify the true statement from the list below."
   ]
  },
  {
   "cell_type": "code",
   "execution_count": null,
   "metadata": {
    "collapsed": true
   },
   "outputs": [],
   "source": []
  },
  {
   "cell_type": "markdown",
   "metadata": {},
   "source": [
    "#Links to explore"
   ]
  }
 ],
 "metadata": {
  "kernelspec": {
   "display_name": "Python 2",
   "language": "python",
   "name": "python2"
  },
  "language_info": {
   "codemirror_mode": {
    "name": "ipython",
    "version": 2
   },
   "file_extension": ".py",
   "mimetype": "text/x-python",
   "name": "python",
   "nbconvert_exporter": "python",
   "pygments_lexer": "ipython2",
   "version": "2.7.10"
  }
 },
 "nbformat": 4,
 "nbformat_minor": 0
}
