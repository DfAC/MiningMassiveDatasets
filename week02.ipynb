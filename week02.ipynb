{
 "cells": [
  {
   "cell_type": "code",
   "execution_count": 2,
   "metadata": {
    "collapsed": false
   },
   "outputs": [
    {
     "name": "stdout",
     "output_type": "stream",
     "text": [
      "Pretty printing has been turned ON\n"
     ]
    }
   ],
   "source": [
    "import pdb #debugger\n",
    "import math\n",
    "import numpy as np"
   ]
  },
  {
   "cell_type": "markdown",
   "metadata": {},
   "source": [
    "Mining massive datasets week02\n",
    "===============\n",
    "\n",
    "\n",
    "\n",
    "##Locality-Sensitive Hashing\n",
    "\n",
    "Many data mining problems can be described as fining similar sets:\n",
    "\n",
    "* pages with similar words\n",
    "\t* similar document on the web\n",
    "\t* aggregating news story\n",
    "* similar taste with moves\n",
    "* moves with similar set of fans\n",
    "* entity resolution\n",
    "\t* are those records relating to the same person?\n",
    "\n",
    "We can get both false positive and false negative. To complete the task we will use 3 steps below\n",
    "\n",
    "\n",
    "###shingling\n",
    "Concerting document to sets\n",
    "\n",
    "* k-gram\n",
    "* we are often forced to use k>=10, due to size of document\n",
    "* we can compress shingle to token\n",
    "\n",
    "\n",
    "\n",
    "###minhashing\n",
    "\n",
    "* Convert large sets to short signatures, while preserving similarity\n",
    "* takes less space in memory\n",
    "* [Jaccard similarity](https://en.wikipedia.org/wiki/Jaccard_index) is the size of set intersection divide by size of their union\n",
    "\t* $sim(C_1,C_2) = \\frac{ |C_1 \\cap C_2|}{ |C_1 \\cup C_2|}$\n",
    "* we can represent all as matrix where \n",
    "\t* rows are sets of all k-shingles (universal set)\n",
    "\t* columns are sets\n",
    "\t* it will be very sparse\n",
    "\t* sum all rows where both sets ==1 and div by all rows ==1\n",
    "* process\n",
    "\t* assume rows to be permuted randomly\n",
    "\t* minhas function h(c) = no of first row in which col c has 1\n",
    "\t\t* once we got all values we stop iterating\n",
    "\t* use several independent functions to create a signature for each column\n",
    "\t* signature matrix will represent this \n",
    "\t\t* columns are sets\n",
    "\t\t* rows are minhash values - in which iteration (which row after it has been permuted randomly) value of [1 appeared in particular row first](https://class.coursera.org/mmds-003/lecture/33)\n",
    "* the probability (over all permutations of rows) that $h(c_1) = h(c_2) == sim(c_1,c_2)$\n",
    "\n",
    "\n",
    "###locality-sensitivity hashing\n",
    "* focus on pair of signatures likely to be similar\n",
    "* we only work on subset, most close subset\n",
    "\n"
   ]
  },
  {
   "cell_type": "code",
   "execution_count": null,
   "metadata": {
    "collapsed": true
   },
   "outputs": [],
   "source": [
    "##Nearest-Neighbor Learning\n",
    "\n",
    "##Frequent Itemsets"
   ]
  },
  {
   "cell_type": "markdown",
   "metadata": {},
   "source": [
    "#Quiz\n",
    "\n",
    "##Question 1\n",
    "The **edit distance** is the minimum number of character insertions and character deletions required to turn one string into another. Compute the edit distance between each pair of the strings *he, she, his, and hers*. Then, identify which of the following is a true statement about the number of pairs at a certain edit distance.\n"
   ]
  },
  {
   "cell_type": "code",
   "execution_count": 16,
   "metadata": {
    "collapsed": false
   },
   "outputs": [
    {
     "data": {
      "text/plain": [
       "2"
      ]
     },
     "execution_count": 16,
     "metadata": {},
     "output_type": "execute_result"
    }
   ],
   "source": [
    "\n",
    "\n",
    "EditDistance('his','hers')\n",
    "\n",
    "#inputWords = ['he', 'she', 'his', 'hers']\n"
   ]
  },
  {
   "cell_type": "code",
   "execution_count": 38,
   "metadata": {
    "collapsed": false
   },
   "outputs": [
    {
     "name": "stdout",
     "output_type": "stream",
     "text": [
      "Distance between he and she is: 1\n",
      "Distance between he and his is: 2\n",
      "Distance between he and hers is: 2\n",
      "Distance between she and his is: 3\n",
      "Distance between she and hers is: 3\n",
      "Distance between his and hers is: 2\n"
     ]
    },
    {
     "data": {
      "text/plain": [
       "Counter({2: 3, 3: 2, 1: 1})"
      ]
     },
     "execution_count": 38,
     "metadata": {},
     "output_type": "execute_result"
    }
   ],
   "source": [
    "from itertools import combinations as Combinations\n",
    "#https://github.com/ztane/python-Levenshtein\n",
    "from Levenshtein import distance as EditDistance\n",
    "from collections import Counter\n",
    "\n",
    "\n",
    "inputWords = ['he', 'she', 'his', 'hers']\n",
    "\n",
    "distanceGroups = []\n",
    "for wordA,wordB in list(Combinations(inputWords,2)): #processing all combinations of words\n",
    "    editDistance = EditDistance(wordA,wordB)\n",
    "    print \"Distance between %s and %s is: %i\" %(wordA,wordB,editDistance)\n",
    "    distanceGroups.append(editDistance)\n",
    "#count them\n",
    "Counter(distanceGroups)\n"
   ]
  },
  {
   "cell_type": "code",
   "execution_count": null,
   "metadata": {
    "collapsed": true
   },
   "outputs": [],
   "source": [
    "r = [ i + [y] for y in x for i in r ]"
   ]
  },
  {
   "cell_type": "code",
   "execution_count": null,
   "metadata": {
    "collapsed": true
   },
   "outputs": [],
   "source": [
    "import re, collections\n",
    "\n",
    "def words(text): return re.findall('[a-z]+', text.lower()) \n",
    "\n",
    "def train(features):\n",
    "    model = collections.defaultdict(lambda: 1)\n",
    "    for f in features:\n",
    "        model[f] += 1\n",
    "    return model\n",
    "\n",
    "\n",
    "\n",
    "def edits1(word):\n",
    "   splits     = [(word[:i], word[i:]) for i in range(len(word) + 1)]\n",
    "   deletes    = [a + b[1:] for a, b in splits if b]\n",
    "   transposes = [a + b[1] + b[0] + b[2:] for a, b in splits if len(b)>1]\n",
    "   replaces   = [a + c + b[1:] for a, b in splits for c in alphabet if b]\n",
    "   inserts    = [a + c + b     for a, b in splits for c in alphabet]\n",
    "   return set(deletes + transposes + replaces + inserts)\n",
    "\n",
    "def known_edits2(word):\n",
    "    return set(e2 for e1 in edits1(word) for e2 in edits1(e1) if e2 in NWORDS)\n",
    "\n",
    "def known(words): return set(w for w in words if w in NWORDS)\n",
    "\n",
    "def correct(word):\n",
    "    candidates = known([word]) or known(edits1(word)) or known_edits2(word) or [word]\n",
    "    return max(candidates, key=NWORDS.get)"
   ]
  }
 ],
 "metadata": {
  "kernelspec": {
   "display_name": "Python 2",
   "language": "python",
   "name": "python2"
  },
  "language_info": {
   "codemirror_mode": {
    "name": "ipython",
    "version": 2
   },
   "file_extension": ".py",
   "mimetype": "text/x-python",
   "name": "python",
   "nbconvert_exporter": "python",
   "pygments_lexer": "ipython2",
   "version": "2.7.10"
  }
 },
 "nbformat": 4,
 "nbformat_minor": 0
}
